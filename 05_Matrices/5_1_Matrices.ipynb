{
 "cells": [
  {
   "cell_type": "markdown",
   "metadata": {},
   "source": [
    "Transposing a matrix"
   ]
  },
  {
   "cell_type": "code",
   "execution_count": 15,
   "metadata": {},
   "outputs": [
    {
     "name": "stdout",
     "output_type": "stream",
     "text": [
      "Matrix A\n",
      "[[ 1.03302339  0.99939403  0.90900992  0.50641871  1.54130451]\n",
      " [-0.23866605 -0.79110031  1.7467033  -0.28121673 -0.53509764]]\n",
      "Transposed of Matrix A\n",
      "[[ 1.03302339 -0.23866605]\n",
      " [ 0.99939403 -0.79110031]\n",
      " [ 0.90900992  1.7467033 ]\n",
      " [ 0.50641871 -0.28121673]\n",
      " [ 1.54130451 -0.53509764]]\n"
     ]
    }
   ],
   "source": [
    "import numpy as np\n",
    "\n",
    "m = np.random.randn(2, 5)\n",
    "\n",
    "tm = m.T\n",
    "\n",
    "print(\"Matrix A\")\n",
    "print(m)\n",
    "print(\"Transposed of Matrix A\")\n",
    "print(tm)"
   ]
  },
  {
   "cell_type": "markdown",
   "metadata": {},
   "source": [
    "Generating Special Matrices"
   ]
  },
  {
   "cell_type": "code",
   "execution_count": 23,
   "metadata": {},
   "outputs": [
    {
     "name": "stdout",
     "output_type": "stream",
     "text": [
      "Identical Matrix\n",
      "[[1. 0. 0. 0.]\n",
      " [0. 1. 0. 0.]\n",
      " [0. 0. 1. 0.]\n",
      " [0. 0. 0. 1.]]\n",
      "Ones Matrix\n",
      "[[1. 1. 1. 1. 1.]\n",
      " [1. 1. 1. 1. 1.]\n",
      " [1. 1. 1. 1. 1.]]\n",
      "[[0. 0. 0.]\n",
      " [0. 0. 0.]\n",
      " [0. 0. 0.]\n",
      " [0. 0. 0.]]\n"
     ]
    }
   ],
   "source": [
    "import numpy as np\n",
    "\n",
    "I = np.eye(4)\n",
    "print(\"Identical Matrix\")\n",
    "print(I)\n",
    "O = np.ones((3, 5))\n",
    "print(\"Ones Matrix\")\n",
    "print(O)\n",
    "Z = np.zeros((4, 3))\n",
    "print(Z)"
   ]
  },
  {
   "cell_type": "markdown",
   "metadata": {},
   "source": [
    "Diagonal Matrix"
   ]
  },
  {
   "cell_type": "code",
   "execution_count": 24,
   "metadata": {},
   "outputs": [
    {
     "name": "stdout",
     "output_type": "stream",
     "text": [
      "[[3 0 0 0]\n",
      " [0 4 0 0]\n",
      " [0 0 2 0]\n",
      " [0 0 0 4]]\n"
     ]
    }
   ],
   "source": [
    "import numpy as np\n",
    "\n",
    "d = np.diag([3, 4, 2, 4])\n",
    "print(d)"
   ]
  },
  {
   "cell_type": "code",
   "execution_count": 26,
   "metadata": {},
   "outputs": [
    {
     "name": "stdout",
     "output_type": "stream",
     "text": [
      "[[ 0.34604132  0.          0.          0.        ]\n",
      " [ 0.         -1.12299225  0.          0.        ]\n",
      " [ 0.          0.         -0.23501641  0.        ]\n",
      " [ 0.          0.          0.         -1.35893137]]\n"
     ]
    }
   ],
   "source": [
    "import numpy as np\n",
    "\n",
    "dn = np.random.randn(4)\n",
    "d = np.diag(dn)\n",
    "print(d)"
   ]
  },
  {
   "cell_type": "markdown",
   "metadata": {},
   "source": [
    "Augmented Matrix"
   ]
  },
  {
   "cell_type": "code",
   "execution_count": 34,
   "metadata": {},
   "outputs": [
    {
     "name": "stdout",
     "output_type": "stream",
     "text": [
      "First Matrix\n",
      "[[ 0.21176478 -0.57693593 -0.25757971]\n",
      " [ 0.17809423  0.89122766 -1.57183074]\n",
      " [-1.98443703 -2.08537573 -0.93221775]\n",
      " [ 0.64199949  0.47486581  0.23391727]]\n",
      "Second Matrix\n",
      "[[ 0.60591924 -1.35859953  1.02472686]\n",
      " [ 1.07196383  0.23660658 -0.5905552 ]\n",
      " [-0.84177101  1.11376501 -1.76651739]\n",
      " [-1.60237939 -1.09591229 -0.83308286]]\n",
      "Concatenation of First and Second matrices\n",
      "[[ 0.21176478 -0.57693593 -0.25757971]\n",
      " [ 0.17809423  0.89122766 -1.57183074]\n",
      " [-1.98443703 -2.08537573 -0.93221775]\n",
      " [ 0.64199949  0.47486581  0.23391727]\n",
      " [ 0.60591924 -1.35859953  1.02472686]\n",
      " [ 1.07196383  0.23660658 -0.5905552 ]\n",
      " [-0.84177101  1.11376501 -1.76651739]\n",
      " [-1.60237939 -1.09591229 -0.83308286]]\n"
     ]
    }
   ],
   "source": [
    "import numpy as np\n",
    "\n",
    "m1 = np.random.randn(4, 3)\n",
    "m2 = np.random.randn(4, 3)\n",
    "\n",
    "print(\"First Matrix\")\n",
    "print(m1)\n",
    "print(\"Second Matrix\")\n",
    "print(m2)\n",
    "print(\"Concatenation of First and Second matrices\")\n",
    "\n",
    "# axis = 1 will put matrices side by side where axis = 0 will put them on top of each other\n",
    "c = np.concatenate((m1, m2), axis = 1)\n",
    "print(c)"
   ]
  },
  {
   "cell_type": "markdown",
   "metadata": {},
   "source": [
    "Extracting traingular matrices"
   ]
  },
  {
   "cell_type": "code",
   "execution_count": 36,
   "metadata": {},
   "outputs": [
    {
     "name": "stdout",
     "output_type": "stream",
     "text": [
      "Matrix A\n",
      "[[ 1.37675252 -0.6515474   2.35551762]\n",
      " [-0.23877722 -0.67868565 -2.25023654]\n",
      " [-0.38143184  1.19469776 -0.20382951]\n",
      " [ 0.28878179 -0.2893312  -0.78604274]]\n",
      "Up triangle matrix of Matrix A\n",
      "[[ 1.37675252 -0.6515474   2.35551762]\n",
      " [ 0.         -0.67868565 -2.25023654]\n",
      " [ 0.          0.         -0.20382951]\n",
      " [ 0.          0.          0.        ]]\n",
      "Down triangle matrix of Matrix A\n",
      "[[ 1.37675252  0.          0.        ]\n",
      " [-0.23877722 -0.67868565  0.        ]\n",
      " [-0.38143184  1.19469776 -0.20382951]\n",
      " [ 0.28878179 -0.2893312  -0.78604274]]\n"
     ]
    }
   ],
   "source": [
    "import numpy as np\n",
    "\n",
    "m = np.random.randn(4, 3)\n",
    "\n",
    "print(\"Matrix A\")\n",
    "print(m)\n",
    "\n",
    "print(\"Up triangle matrix of Matrix A\")\n",
    "u = np.triu(m)\n",
    "print(u)\n",
    "print(\"Down triangle matrix of Matrix A\")\n",
    "d = np.tril(m)\n",
    "print(d)"
   ]
  }
 ],
 "metadata": {
  "interpreter": {
   "hash": "7bc860000c6f5302978618b464c7d790b0531a76ec4d34151d0c6c80d711d2c9"
  },
  "kernelspec": {
   "display_name": "Python 3.10.3 64-bit",
   "language": "python",
   "name": "python3"
  },
  "language_info": {
   "codemirror_mode": {
    "name": "ipython",
    "version": 3
   },
   "file_extension": ".py",
   "mimetype": "text/x-python",
   "name": "python",
   "nbconvert_exporter": "python",
   "pygments_lexer": "ipython3",
   "version": "3.10.3"
  },
  "orig_nbformat": 4
 },
 "nbformat": 4,
 "nbformat_minor": 2
}
