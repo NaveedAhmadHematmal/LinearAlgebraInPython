{
 "cells": [
  {
   "cell_type": "markdown",
   "metadata": {},
   "source": [
    "Dot Product of two vectors"
   ]
  },
  {
   "cell_type": "code",
   "execution_count": 2,
   "metadata": {},
   "outputs": [
    {
     "name": "stdout",
     "output_type": "stream",
     "text": [
      "29\n"
     ]
    }
   ],
   "source": [
    "import numpy as np\n",
    "\n",
    "v1 = np.array([1, 2, 3, 4])\n",
    "v2 = np.array([3, 4, 2, 3])\n",
    "vr = np.dot(v1, v2)\n",
    "print(vr)"
   ]
  },
  {
   "cell_type": "markdown",
   "metadata": {},
   "source": [
    "Associative Property with a scalar"
   ]
  },
  {
   "cell_type": "code",
   "execution_count": 4,
   "metadata": {},
   "outputs": [
    {
     "name": "stdout",
     "output_type": "stream",
     "text": [
      "s * ( v1 * v2 )\n",
      "160\n",
      "( (s * v1) ( s * v2 ) )\n",
      "1600\n"
     ]
    }
   ],
   "source": [
    "import numpy as np\n",
    "\n",
    "v1 = np.array([1, 2, 3])\n",
    "v2 = np.array([4, 3, 2])\n",
    "s = 10\n",
    "\n",
    "vr1 = np.dot(v1, v2) * s\n",
    "\n",
    "vr2 = np.dot(v1*s, v2*s)\n",
    "print(\"s * ( v1 * v2 )\")\n",
    "print(vr1)\n",
    "print(\"( (s * v1) ( s * v2 ) )\")\n",
    "print(vr2)"
   ]
  },
  {
   "cell_type": "markdown",
   "metadata": {},
   "source": [
    "Associative Property between vectors"
   ]
  },
  {
   "cell_type": "code",
   "execution_count": 10,
   "metadata": {},
   "outputs": [
    {
     "name": "stdout",
     "output_type": "stream",
     "text": [
      "v1 (v2 * v3)\n",
      "[24 48 72]\n",
      "(v1 * v2) v3\n",
      "[48 32 48]\n"
     ]
    }
   ],
   "source": [
    "import numpy as np\n",
    "\n",
    "v1 = np.array([1, 2, 3])\n",
    "v2 = np.array([4, 3, 2])\n",
    "v3 = np.array([3, 2, 3])\n",
    "\n",
    "print(\"v1 (v2 * v3)\")\n",
    "vr1 = np.dot(v1, np.dot(v2, v3))\n",
    "print(vr1)\n",
    "print(\"(v1 * v2) v3\")\n",
    "vr2 = np.dot(np.dot(v1, v2), v3)\n",
    "print(vr2)"
   ]
  },
  {
   "cell_type": "markdown",
   "metadata": {},
   "source": [
    "Commutative Property"
   ]
  },
  {
   "cell_type": "code",
   "execution_count": 11,
   "metadata": {},
   "outputs": [
    {
     "name": "stdout",
     "output_type": "stream",
     "text": [
      "(v1 * v2)\n",
      "16\n",
      "(v2 * v1)\n",
      "16\n"
     ]
    }
   ],
   "source": [
    "import numpy as np\n",
    "\n",
    "v1 = np.array([1, 2, 3])\n",
    "v2 = np.array([4, 3, 2])\n",
    "\n",
    "print(\"(v1 * v2)\")\n",
    "vr1 = np.dot(v1, v2)\n",
    "print(vr1)\n",
    "print(\"(v2 * v1)\")\n",
    "vr2 = np.dot(v2, v1)\n",
    "print(vr2)"
   ]
  },
  {
   "cell_type": "markdown",
   "metadata": {},
   "source": [
    "Distributive Property"
   ]
  },
  {
   "cell_type": "code",
   "execution_count": 14,
   "metadata": {},
   "outputs": [
    {
     "name": "stdout",
     "output_type": "stream",
     "text": [
      "v1 (v2 + v3)\n",
      "32\n",
      "(v1 * v2) + (v1 * v3)\n",
      "32\n"
     ]
    }
   ],
   "source": [
    "import numpy as np\n",
    "\n",
    "v1 = np.array([1, 2, 3])\n",
    "v2 = np.array([4, 3, 2])\n",
    "v3 = np.array([3, 2, 3])\n",
    "\n",
    "print(\"v1 (v2 + v3)\")\n",
    "vr1 = np.dot(v1, (v2 + v3))\n",
    "print(vr1)\n",
    "print(\"(v1 * v2) + (v1 * v3)\")\n",
    "vr2 = np.dot(v1, v2) + np.dot(v1, v3)\n",
    "print(vr2)"
   ]
  }
 ],
 "metadata": {
  "interpreter": {
   "hash": "dec2d4570663edbfd24322d92abf413a6836771c243bb02be1c63beff77e4cf8"
  },
  "kernelspec": {
   "display_name": "Python 3.10.3 64-bit",
   "language": "python",
   "name": "python3"
  },
  "language_info": {
   "codemirror_mode": {
    "name": "ipython",
    "version": 3
   },
   "file_extension": ".py",
   "mimetype": "text/x-python",
   "name": "python",
   "nbconvert_exporter": "python",
   "pygments_lexer": "ipython3",
   "version": "3.10.3"
  },
  "orig_nbformat": 4
 },
 "nbformat": 4,
 "nbformat_minor": 2
}
