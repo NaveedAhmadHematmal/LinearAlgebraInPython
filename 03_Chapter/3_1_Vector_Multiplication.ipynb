{
 "cells": [
  {
   "cell_type": "markdown",
   "metadata": {},
   "source": [
    "Dot Product of two vectors"
   ]
  },
  {
   "cell_type": "code",
   "execution_count": 2,
   "metadata": {},
   "outputs": [
    {
     "name": "stdout",
     "output_type": "stream",
     "text": [
      "29\n"
     ]
    }
   ],
   "source": [
    "import numpy as np\n",
    "\n",
    "v1 = np.array([1, 2, 3, 4])\n",
    "v2 = np.array([3, 4, 2, 3])\n",
    "vr = np.dot(v1, v2)\n",
    "print(vr)"
   ]
  },
  {
   "cell_type": "markdown",
   "metadata": {},
   "source": [
    "Associative Property with a scalar"
   ]
  },
  {
   "cell_type": "code",
   "execution_count": 4,
   "metadata": {},
   "outputs": [
    {
     "name": "stdout",
     "output_type": "stream",
     "text": [
      "s * ( v1 * v2 )\n",
      "160\n",
      "( (s * v1) ( s * v2 ) )\n",
      "1600\n"
     ]
    }
   ],
   "source": [
    "import numpy as np\n",
    "\n",
    "v1 = np.array([1, 2, 3])\n",
    "v2 = np.array([4, 3, 2])\n",
    "s = 10\n",
    "\n",
    "vr1 = np.dot(v1, v2) * s\n",
    "\n",
    "vr2 = np.dot(v1*s, v2*s)\n",
    "print(\"s * ( v1 * v2 )\")\n",
    "print(vr1)\n",
    "print(\"( (s * v1) ( s * v2 ) )\")\n",
    "print(vr2)"
   ]
  },
  {
   "cell_type": "markdown",
   "metadata": {},
   "source": [
    "Associative Property between vectors"
   ]
  },
  {
   "cell_type": "code",
   "execution_count": 10,
   "metadata": {},
   "outputs": [
    {
     "name": "stdout",
     "output_type": "stream",
     "text": [
      "v1 (v2 * v3)\n",
      "[24 48 72]\n",
      "(v1 * v2) v3\n",
      "[48 32 48]\n"
     ]
    }
   ],
   "source": [
    "import numpy as np\n",
    "\n",
    "v1 = np.array([1, 2, 3])\n",
    "v2 = np.array([4, 3, 2])\n",
    "v3 = np.array([3, 2, 3])\n",
    "\n",
    "print(\"v1 (v2 * v3)\")\n",
    "vr1 = np.dot(v1, np.dot(v2, v3))\n",
    "print(vr1)\n",
    "print(\"(v1 * v2) v3\")\n",
    "vr2 = np.dot(np.dot(v1, v2), v3)\n",
    "print(vr2)"
   ]
  },
  {
   "cell_type": "markdown",
   "metadata": {},
   "source": [
    "Commutative Property"
   ]
  },
  {
   "cell_type": "code",
   "execution_count": 11,
   "metadata": {},
   "outputs": [
    {
     "name": "stdout",
     "output_type": "stream",
     "text": [
      "(v1 * v2)\n",
      "16\n",
      "(v2 * v1)\n",
      "16\n"
     ]
    }
   ],
   "source": [
    "import numpy as np\n",
    "\n",
    "v1 = np.array([1, 2, 3])\n",
    "v2 = np.array([4, 3, 2])\n",
    "\n",
    "print(\"(v1 * v2)\")\n",
    "vr1 = np.dot(v1, v2)\n",
    "print(vr1)\n",
    "print(\"(v2 * v1)\")\n",
    "vr2 = np.dot(v2, v1)\n",
    "print(vr2)"
   ]
  },
  {
   "cell_type": "markdown",
   "metadata": {},
   "source": [
    "Distributive Property"
   ]
  },
  {
   "cell_type": "code",
   "execution_count": 14,
   "metadata": {},
   "outputs": [
    {
     "name": "stdout",
     "output_type": "stream",
     "text": [
      "v1 (v2 + v3)\n",
      "32\n",
      "(v1 * v2) + (v1 * v3)\n",
      "32\n"
     ]
    }
   ],
   "source": [
    "import numpy as np\n",
    "\n",
    "v1 = np.array([1, 2, 3])\n",
    "v2 = np.array([4, 3, 2])\n",
    "v3 = np.array([3, 2, 3])\n",
    "\n",
    "print(\"v1 (v2 + v3)\")\n",
    "vr1 = np.dot(v1, (v2 + v3))\n",
    "print(vr1)\n",
    "print(\"(v1 * v2) + (v1 * v3)\")\n",
    "vr2 = np.dot(v1, v2) + np.dot(v1, v3)\n",
    "print(vr2)"
   ]
  },
  {
   "cell_type": "markdown",
   "metadata": {},
   "source": [
    "Linear weighted combinations"
   ]
  },
  {
   "cell_type": "code",
   "execution_count": 6,
   "metadata": {},
   "outputs": [
    {
     "data": {
      "text/plain": [
       "array([ -7,  -4, -13])"
      ]
     },
     "execution_count": 6,
     "metadata": {},
     "output_type": "execute_result"
    }
   ],
   "source": [
    "import numpy as np\n",
    "l1 = 1\n",
    "l2 = 2\n",
    "l3 = -3\n",
    "v1 = np.array( [ 4 , 5 , 1 ] )\n",
    "v2 = np.array( [ -4 , 0 , -4] )\n",
    "v3 = np.array( [ 1 , 3 , 2 ] )\n",
    "l1 * v1 + l2 * v2 + l3 * v3\n"
   ]
  },
  {
   "cell_type": "markdown",
   "metadata": {},
   "source": [
    "Outer Product"
   ]
  },
  {
   "cell_type": "code",
   "execution_count": 8,
   "metadata": {},
   "outputs": [
    {
     "name": "stdout",
     "output_type": "stream",
     "text": [
      "[[ 8  6  4]\n",
      " [12  9  6]\n",
      " [16 12  8]\n",
      " [20 15 10]]\n"
     ]
    }
   ],
   "source": [
    "import numpy as np\n",
    "\n",
    "v1 = np.array([2, 3, 4, 5])\n",
    "v2 = np.array([4, 3, 2])\n",
    "op = np.outer(v1, v2)\n",
    "print(op)"
   ]
  },
  {
   "cell_type": "markdown",
   "metadata": {},
   "source": [
    "Element wise Outer product (Hadamard Multiplication)"
   ]
  },
  {
   "cell_type": "code",
   "execution_count": 1,
   "metadata": {},
   "outputs": [
    {
     "name": "stdout",
     "output_type": "stream",
     "text": [
      "[ 8 12 10  3]\n"
     ]
    }
   ],
   "source": [
    "import numpy as np\n",
    "\n",
    "v1 = np.array([2, 4, 5, 3])\n",
    "v2 = np.array([4, 3, 2, 1])\n",
    "\n",
    "r = v1 * v2 \n",
    "\n",
    "print(r)"
   ]
  },
  {
   "cell_type": "markdown",
   "metadata": {},
   "source": [
    "Unit vector (finding vector norm)"
   ]
  },
  {
   "cell_type": "code",
   "execution_count": 2,
   "metadata": {},
   "outputs": [
    {
     "name": "stdout",
     "output_type": "stream",
     "text": [
      "9.695359714832659\n"
     ]
    }
   ],
   "source": [
    "import numpy as np\n",
    "\n",
    "lv = np.array([2, 5, 4, 7])\n",
    "nv = np.linalg.norm(lv)\n",
    "\n",
    "print(nv)"
   ]
  }
 ],
 "metadata": {
  "interpreter": {
   "hash": "7bc860000c6f5302978618b464c7d790b0531a76ec4d34151d0c6c80d711d2c9"
  },
  "kernelspec": {
   "display_name": "Python 3.10.3 64-bit",
   "language": "python",
   "name": "python3"
  },
  "language_info": {
   "codemirror_mode": {
    "name": "ipython",
    "version": 3
   },
   "file_extension": ".py",
   "mimetype": "text/x-python",
   "name": "python",
   "nbconvert_exporter": "python",
   "pygments_lexer": "ipython3",
   "version": "3.10.3"
  },
  "orig_nbformat": 4
 },
 "nbformat": 4,
 "nbformat_minor": 2
}
